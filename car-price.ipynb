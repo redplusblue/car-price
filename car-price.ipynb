{
 "cells": [
  {
   "cell_type": "code",
   "execution_count": 4,
   "id": "4be81ec2-2ea6-4aa9-a3b9-2509373d4138",
   "metadata": {},
   "outputs": [],
   "source": [
    "import numpy as np\n",
    "import pandas as pd \n",
    "from matplotlib import pyplot as plt \n",
    "import seaborn as sns\n",
    "%matplotlib inline"
   ]
  },
  {
   "cell_type": "code",
   "execution_count": 5,
   "id": "e7851e95-4f64-4486-9735-b8f690fafb79",
   "metadata": {},
   "outputs": [
    {
     "data": {
      "text/plain": [
       "11914"
      ]
     },
     "execution_count": 5,
     "metadata": {},
     "output_type": "execute_result"
    }
   ],
   "source": [
    "# df -> DataFrame\n",
    "df = pd.read_csv('data.csv')\n",
    "# Number of rows in df\n",
    "len(df)"
   ]
  },
  {
   "cell_type": "code",
   "execution_count": 6,
   "id": "6f22adfc-a49d-4d7c-92d8-b6258f97cd7f",
   "metadata": {},
   "outputs": [
    {
     "data": {
      "text/html": [
       "<div>\n",
       "<style scoped>\n",
       "    .dataframe tbody tr th:only-of-type {\n",
       "        vertical-align: middle;\n",
       "    }\n",
       "\n",
       "    .dataframe tbody tr th {\n",
       "        vertical-align: top;\n",
       "    }\n",
       "\n",
       "    .dataframe thead th {\n",
       "        text-align: right;\n",
       "    }\n",
       "</style>\n",
       "<table border=\"1\" class=\"dataframe\">\n",
       "  <thead>\n",
       "    <tr style=\"text-align: right;\">\n",
       "      <th></th>\n",
       "      <th>Make</th>\n",
       "      <th>Model</th>\n",
       "      <th>Year</th>\n",
       "      <th>Engine Fuel Type</th>\n",
       "      <th>Engine HP</th>\n",
       "      <th>Engine Cylinders</th>\n",
       "      <th>Transmission Type</th>\n",
       "      <th>Driven_Wheels</th>\n",
       "      <th>Number of Doors</th>\n",
       "      <th>Market Category</th>\n",
       "      <th>Vehicle Size</th>\n",
       "      <th>Vehicle Style</th>\n",
       "      <th>highway MPG</th>\n",
       "      <th>city mpg</th>\n",
       "      <th>Popularity</th>\n",
       "      <th>MSRP</th>\n",
       "    </tr>\n",
       "  </thead>\n",
       "  <tbody>\n",
       "    <tr>\n",
       "      <th>0</th>\n",
       "      <td>BMW</td>\n",
       "      <td>1 Series M</td>\n",
       "      <td>2011</td>\n",
       "      <td>premium unleaded (required)</td>\n",
       "      <td>335.0</td>\n",
       "      <td>6.0</td>\n",
       "      <td>MANUAL</td>\n",
       "      <td>rear wheel drive</td>\n",
       "      <td>2.0</td>\n",
       "      <td>Factory Tuner,Luxury,High-Performance</td>\n",
       "      <td>Compact</td>\n",
       "      <td>Coupe</td>\n",
       "      <td>26</td>\n",
       "      <td>19</td>\n",
       "      <td>3916</td>\n",
       "      <td>46135</td>\n",
       "    </tr>\n",
       "    <tr>\n",
       "      <th>1</th>\n",
       "      <td>BMW</td>\n",
       "      <td>1 Series</td>\n",
       "      <td>2011</td>\n",
       "      <td>premium unleaded (required)</td>\n",
       "      <td>300.0</td>\n",
       "      <td>6.0</td>\n",
       "      <td>MANUAL</td>\n",
       "      <td>rear wheel drive</td>\n",
       "      <td>2.0</td>\n",
       "      <td>Luxury,Performance</td>\n",
       "      <td>Compact</td>\n",
       "      <td>Convertible</td>\n",
       "      <td>28</td>\n",
       "      <td>19</td>\n",
       "      <td>3916</td>\n",
       "      <td>40650</td>\n",
       "    </tr>\n",
       "    <tr>\n",
       "      <th>2</th>\n",
       "      <td>BMW</td>\n",
       "      <td>1 Series</td>\n",
       "      <td>2011</td>\n",
       "      <td>premium unleaded (required)</td>\n",
       "      <td>300.0</td>\n",
       "      <td>6.0</td>\n",
       "      <td>MANUAL</td>\n",
       "      <td>rear wheel drive</td>\n",
       "      <td>2.0</td>\n",
       "      <td>Luxury,High-Performance</td>\n",
       "      <td>Compact</td>\n",
       "      <td>Coupe</td>\n",
       "      <td>28</td>\n",
       "      <td>20</td>\n",
       "      <td>3916</td>\n",
       "      <td>36350</td>\n",
       "    </tr>\n",
       "    <tr>\n",
       "      <th>3</th>\n",
       "      <td>BMW</td>\n",
       "      <td>1 Series</td>\n",
       "      <td>2011</td>\n",
       "      <td>premium unleaded (required)</td>\n",
       "      <td>230.0</td>\n",
       "      <td>6.0</td>\n",
       "      <td>MANUAL</td>\n",
       "      <td>rear wheel drive</td>\n",
       "      <td>2.0</td>\n",
       "      <td>Luxury,Performance</td>\n",
       "      <td>Compact</td>\n",
       "      <td>Coupe</td>\n",
       "      <td>28</td>\n",
       "      <td>18</td>\n",
       "      <td>3916</td>\n",
       "      <td>29450</td>\n",
       "    </tr>\n",
       "    <tr>\n",
       "      <th>4</th>\n",
       "      <td>BMW</td>\n",
       "      <td>1 Series</td>\n",
       "      <td>2011</td>\n",
       "      <td>premium unleaded (required)</td>\n",
       "      <td>230.0</td>\n",
       "      <td>6.0</td>\n",
       "      <td>MANUAL</td>\n",
       "      <td>rear wheel drive</td>\n",
       "      <td>2.0</td>\n",
       "      <td>Luxury</td>\n",
       "      <td>Compact</td>\n",
       "      <td>Convertible</td>\n",
       "      <td>28</td>\n",
       "      <td>18</td>\n",
       "      <td>3916</td>\n",
       "      <td>34500</td>\n",
       "    </tr>\n",
       "  </tbody>\n",
       "</table>\n",
       "</div>"
      ],
      "text/plain": [
       "  Make       Model  Year             Engine Fuel Type  Engine HP  \\\n",
       "0  BMW  1 Series M  2011  premium unleaded (required)      335.0   \n",
       "1  BMW    1 Series  2011  premium unleaded (required)      300.0   \n",
       "2  BMW    1 Series  2011  premium unleaded (required)      300.0   \n",
       "3  BMW    1 Series  2011  premium unleaded (required)      230.0   \n",
       "4  BMW    1 Series  2011  premium unleaded (required)      230.0   \n",
       "\n",
       "   Engine Cylinders Transmission Type     Driven_Wheels  Number of Doors  \\\n",
       "0               6.0            MANUAL  rear wheel drive              2.0   \n",
       "1               6.0            MANUAL  rear wheel drive              2.0   \n",
       "2               6.0            MANUAL  rear wheel drive              2.0   \n",
       "3               6.0            MANUAL  rear wheel drive              2.0   \n",
       "4               6.0            MANUAL  rear wheel drive              2.0   \n",
       "\n",
       "                         Market Category Vehicle Size Vehicle Style  \\\n",
       "0  Factory Tuner,Luxury,High-Performance      Compact         Coupe   \n",
       "1                     Luxury,Performance      Compact   Convertible   \n",
       "2                Luxury,High-Performance      Compact         Coupe   \n",
       "3                     Luxury,Performance      Compact         Coupe   \n",
       "4                                 Luxury      Compact   Convertible   \n",
       "\n",
       "   highway MPG  city mpg  Popularity   MSRP  \n",
       "0           26        19        3916  46135  \n",
       "1           28        19        3916  40650  \n",
       "2           28        20        3916  36350  \n",
       "3           28        18        3916  29450  \n",
       "4           28        18        3916  34500  "
      ]
     },
     "execution_count": 6,
     "metadata": {},
     "output_type": "execute_result"
    }
   ],
   "source": [
    "# First five rows in df\n",
    "df.head()"
   ]
  },
  {
   "cell_type": "code",
   "execution_count": 7,
   "id": "1ecff5ba-6315-4630-87d3-134dd6811004",
   "metadata": {},
   "outputs": [],
   "source": [
    "# Normalize all column names \n",
    "df.columns = df.columns.str.lower().str.replace(' ', '-')\n",
    "# Select cols with string values\n",
    "string_columns = list(df.dtypes[df.dtypes == 'object'].index)\n",
    "for col in string_columns: \n",
    "    df[col] = df[col].str.lower().str.replace(' ', '-') "
   ]
  },
  {
   "cell_type": "code",
   "execution_count": 8,
   "id": "746383b3-5a33-4703-9d9a-97bb50b45240",
   "metadata": {},
   "outputs": [
    {
     "data": {
      "text/html": [
       "<div>\n",
       "<style scoped>\n",
       "    .dataframe tbody tr th:only-of-type {\n",
       "        vertical-align: middle;\n",
       "    }\n",
       "\n",
       "    .dataframe tbody tr th {\n",
       "        vertical-align: top;\n",
       "    }\n",
       "\n",
       "    .dataframe thead th {\n",
       "        text-align: right;\n",
       "    }\n",
       "</style>\n",
       "<table border=\"1\" class=\"dataframe\">\n",
       "  <thead>\n",
       "    <tr style=\"text-align: right;\">\n",
       "      <th></th>\n",
       "      <th>make</th>\n",
       "      <th>model</th>\n",
       "      <th>year</th>\n",
       "      <th>engine-fuel-type</th>\n",
       "      <th>engine-hp</th>\n",
       "      <th>engine-cylinders</th>\n",
       "      <th>transmission-type</th>\n",
       "      <th>driven_wheels</th>\n",
       "      <th>number-of-doors</th>\n",
       "      <th>market-category</th>\n",
       "      <th>vehicle-size</th>\n",
       "      <th>vehicle-style</th>\n",
       "      <th>highway-mpg</th>\n",
       "      <th>city-mpg</th>\n",
       "      <th>popularity</th>\n",
       "      <th>msrp</th>\n",
       "    </tr>\n",
       "  </thead>\n",
       "  <tbody>\n",
       "    <tr>\n",
       "      <th>0</th>\n",
       "      <td>bmw</td>\n",
       "      <td>1-series-m</td>\n",
       "      <td>2011</td>\n",
       "      <td>premium-unleaded-(required)</td>\n",
       "      <td>335.0</td>\n",
       "      <td>6.0</td>\n",
       "      <td>manual</td>\n",
       "      <td>rear-wheel-drive</td>\n",
       "      <td>2.0</td>\n",
       "      <td>factory-tuner,luxury,high-performance</td>\n",
       "      <td>compact</td>\n",
       "      <td>coupe</td>\n",
       "      <td>26</td>\n",
       "      <td>19</td>\n",
       "      <td>3916</td>\n",
       "      <td>46135</td>\n",
       "    </tr>\n",
       "    <tr>\n",
       "      <th>1</th>\n",
       "      <td>bmw</td>\n",
       "      <td>1-series</td>\n",
       "      <td>2011</td>\n",
       "      <td>premium-unleaded-(required)</td>\n",
       "      <td>300.0</td>\n",
       "      <td>6.0</td>\n",
       "      <td>manual</td>\n",
       "      <td>rear-wheel-drive</td>\n",
       "      <td>2.0</td>\n",
       "      <td>luxury,performance</td>\n",
       "      <td>compact</td>\n",
       "      <td>convertible</td>\n",
       "      <td>28</td>\n",
       "      <td>19</td>\n",
       "      <td>3916</td>\n",
       "      <td>40650</td>\n",
       "    </tr>\n",
       "    <tr>\n",
       "      <th>2</th>\n",
       "      <td>bmw</td>\n",
       "      <td>1-series</td>\n",
       "      <td>2011</td>\n",
       "      <td>premium-unleaded-(required)</td>\n",
       "      <td>300.0</td>\n",
       "      <td>6.0</td>\n",
       "      <td>manual</td>\n",
       "      <td>rear-wheel-drive</td>\n",
       "      <td>2.0</td>\n",
       "      <td>luxury,high-performance</td>\n",
       "      <td>compact</td>\n",
       "      <td>coupe</td>\n",
       "      <td>28</td>\n",
       "      <td>20</td>\n",
       "      <td>3916</td>\n",
       "      <td>36350</td>\n",
       "    </tr>\n",
       "    <tr>\n",
       "      <th>3</th>\n",
       "      <td>bmw</td>\n",
       "      <td>1-series</td>\n",
       "      <td>2011</td>\n",
       "      <td>premium-unleaded-(required)</td>\n",
       "      <td>230.0</td>\n",
       "      <td>6.0</td>\n",
       "      <td>manual</td>\n",
       "      <td>rear-wheel-drive</td>\n",
       "      <td>2.0</td>\n",
       "      <td>luxury,performance</td>\n",
       "      <td>compact</td>\n",
       "      <td>coupe</td>\n",
       "      <td>28</td>\n",
       "      <td>18</td>\n",
       "      <td>3916</td>\n",
       "      <td>29450</td>\n",
       "    </tr>\n",
       "    <tr>\n",
       "      <th>4</th>\n",
       "      <td>bmw</td>\n",
       "      <td>1-series</td>\n",
       "      <td>2011</td>\n",
       "      <td>premium-unleaded-(required)</td>\n",
       "      <td>230.0</td>\n",
       "      <td>6.0</td>\n",
       "      <td>manual</td>\n",
       "      <td>rear-wheel-drive</td>\n",
       "      <td>2.0</td>\n",
       "      <td>luxury</td>\n",
       "      <td>compact</td>\n",
       "      <td>convertible</td>\n",
       "      <td>28</td>\n",
       "      <td>18</td>\n",
       "      <td>3916</td>\n",
       "      <td>34500</td>\n",
       "    </tr>\n",
       "  </tbody>\n",
       "</table>\n",
       "</div>"
      ],
      "text/plain": [
       "  make       model  year             engine-fuel-type  engine-hp  \\\n",
       "0  bmw  1-series-m  2011  premium-unleaded-(required)      335.0   \n",
       "1  bmw    1-series  2011  premium-unleaded-(required)      300.0   \n",
       "2  bmw    1-series  2011  premium-unleaded-(required)      300.0   \n",
       "3  bmw    1-series  2011  premium-unleaded-(required)      230.0   \n",
       "4  bmw    1-series  2011  premium-unleaded-(required)      230.0   \n",
       "\n",
       "   engine-cylinders transmission-type     driven_wheels  number-of-doors  \\\n",
       "0               6.0            manual  rear-wheel-drive              2.0   \n",
       "1               6.0            manual  rear-wheel-drive              2.0   \n",
       "2               6.0            manual  rear-wheel-drive              2.0   \n",
       "3               6.0            manual  rear-wheel-drive              2.0   \n",
       "4               6.0            manual  rear-wheel-drive              2.0   \n",
       "\n",
       "                         market-category vehicle-size vehicle-style  \\\n",
       "0  factory-tuner,luxury,high-performance      compact         coupe   \n",
       "1                     luxury,performance      compact   convertible   \n",
       "2                luxury,high-performance      compact         coupe   \n",
       "3                     luxury,performance      compact         coupe   \n",
       "4                                 luxury      compact   convertible   \n",
       "\n",
       "   highway-mpg  city-mpg  popularity   msrp  \n",
       "0           26        19        3916  46135  \n",
       "1           28        19        3916  40650  \n",
       "2           28        20        3916  36350  \n",
       "3           28        18        3916  29450  \n",
       "4           28        18        3916  34500  "
      ]
     },
     "execution_count": 8,
     "metadata": {},
     "output_type": "execute_result"
    }
   ],
   "source": [
    "df.head()"
   ]
  },
  {
   "cell_type": "code",
   "execution_count": 9,
   "id": "8c9fb44d-a2eb-4ada-9da7-8cd36d01b022",
   "metadata": {},
   "outputs": [
    {
     "data": {
      "text/plain": [
       "<Axes: xlabel='msrp', ylabel='Count'>"
      ]
     },
     "execution_count": 9,
     "metadata": {},
     "output_type": "execute_result"
    },
    {
     "data": {
      "image/png": "[encoded data removed]",
      "text/plain": [
       "<Figure size 640x480 with 1 Axes>"
      ]
     },
     "metadata": {},
     "output_type": "display_data"
    }
   ],
   "source": [
    "# plot a histogram of the target variable (or y) which is msrp\n",
    "sns.histplot(df.msrp, bins=40)"
   ]
  },
  {
   "cell_type": "markdown",
   "id": "62886f13-b331-4493-8bc4-d882723caebf",
   "metadata": {},
   "source": [
    "#### Graph has a long \"tail\" which means we have more cars with low prices than we do for higher prices. The cutoff seems to be $100,000"
   ]
  },
  {
   "cell_type": "code",
   "execution_count": 10,
   "id": "d219372e-c567-4c12-bbb3-77cf0f00c518",
   "metadata": {},
   "outputs": [
    {
     "data": {
      "text/plain": [
       "<Axes: xlabel='msrp', ylabel='Count'>"
      ]
     },
     "execution_count": 10,
     "metadata": {},
     "output_type": "execute_result"
    },
    {
     "data": {
      "image/png": "[encoded data removed]",
      "text/plain": [
       "<Figure size 640x480 with 1 Axes>"
      ]
     },
     "metadata": {},
     "output_type": "display_data"
    }
   ],
   "source": [
    "sns.histplot(df.msrp[df.msrp < 100000])"
   ]
  },
  {
   "cell_type": "markdown",
   "id": "d645f1de-9192-4017-b92a-36a9de97b1bc",
   "metadata": {},
   "source": [
    "#### Now we see a much more even distribution, but the number of cars that cost $1k are still in the largest quantity by a lot, so we apply a log transformation to remove the \"long tail\" effect and make sure we don't confuse the model"
   ]
  },
  {
   "cell_type": "code",
   "execution_count": 11,
   "id": "08950042-82a7-4394-9a6c-dde4fd33f7dd",
   "metadata": {},
   "outputs": [
    {
     "data": {
      "text/plain": [
       "<Axes: xlabel='msrp', ylabel='Count'>"
      ]
     },
     "execution_count": 11,
     "metadata": {},
     "output_type": "execute_result"
    },
    {
     "data": {
      "image/png": "[encoded data removed]",
      "text/plain": [
       "<Figure size 640x480 with 1 Axes>"
      ]
     },
     "metadata": {},
     "output_type": "display_data"
    }
   ],
   "source": [
    "# new_price = log(old_price + 1) -> +1 because log(0) ~ -inf\n",
    "log_price = np.log1p(df.msrp)\n",
    "sns.histplot(log_price)"
   ]
  },
  {
   "cell_type": "markdown",
   "id": "4278a327-5bff-4edf-9132-32f0948422e9",
   "metadata": {},
   "source": [
    "#### It is important that the distribution resembles a normal distribution for linear regression to perform better"
   ]
  },
  {
   "cell_type": "code",
   "execution_count": 12,
   "id": "bf02db8c-16af-43fc-9d66-1c7b1ef6a74b",
   "metadata": {},
   "outputs": [
    {
     "data": {
      "text/plain": [
       "make                    0\n",
       "model                   0\n",
       "year                    0\n",
       "engine-fuel-type        3\n",
       "engine-hp              69\n",
       "engine-cylinders       30\n",
       "transmission-type       0\n",
       "driven_wheels           0\n",
       "number-of-doors         6\n",
       "market-category      3742\n",
       "vehicle-size            0\n",
       "vehicle-style           0\n",
       "highway-mpg             0\n",
       "city-mpg                0\n",
       "popularity              0\n",
       "msrp                    0\n",
       "dtype: int64"
      ]
     },
     "execution_count": 12,
     "metadata": {},
     "output_type": "execute_result"
    }
   ],
   "source": [
    "# Check for missing values\n",
    "df.isnull().sum()"
   ]
  },
  {
   "cell_type": "code",
   "execution_count": 14,
   "id": "d56ff04c-80f3-45db-8fbb-afde55294d22",
   "metadata": {},
   "outputs": [],
   "source": [
    "# Validation framework needs to be set up ASAP so that the model can generalize. For that purpose\n",
    "# DF will be split as follows -> + 60% Training + 20% Validation + 20% Test\n",
    "\n",
    "# Get number of rows in DF\n",
    "n = len(df)\n",
    "\n",
    "# Calculate number of rows to be split according to above\n",
    "n_val = int(0.2 * n)\n",
    "n_test = int(0.2 * n)\n",
    "n_train = n - (n_val + n_test)\n",
    "\n",
    "# Fix a random seed to make sure results are reproducible (at least on the same machine)\n",
    "np.random.seed(2)\n",
    "# Create a shuffled NP array with all the indices \n",
    "idx = np.arange(n)\n",
    "np.random.shuffle(idx)\n",
    "\n",
    "# Use the array with indices to get a shuffled DF\n",
    "df_shuffled = df.iloc[idx]\n",
    "# Split shuffled DF into train, validation and test.\n",
    "df_train = df_shuffled.iloc[:n_train].copy()\n",
    "df_val = df_shuffled.iloc[n_train:n_train + n_val].copy()\n",
    "df_test = df_shuffled.iloc[n_train + n_val:].copy()"
   ]
  },
  {
   "cell_type": "code",
   "execution_count": 15,
   "id": "769f3307-cfd2-4299-9e71-7deabc5fd018",
   "metadata": {},
   "outputs": [],
   "source": [
    "# Log transformation to remove the long tail effect again\n",
    "y_train = np.log1p(df_train.msrp.values)\n",
    "y_val = np.log1p(df_val.msrp.values)\n",
    "y_test = np.log1p(df_test.msrp.values)\n",
    "\n",
    "# NOTE: We don't want to use the target variable accidentaly, so we remove it from the DFs\n",
    "del df_train['msrp']\n",
    "del df_test['msrp']\n",
    "del df_val['msrp']"
   ]
  },
  {
   "cell_type": "markdown",
   "id": "2685651e-4c83-408f-b30f-50c985f3960d",
   "metadata": {},
   "source": [
    "## Now we start training"
   ]
  },
  {
   "cell_type": "markdown",
   "id": "6ffe0e10-102b-4c47-a6db-3764e56b5303",
   "metadata": {},
   "source": [
    "#### Since the goal is to predict a number (msrp), which is a regression problem, we train this model using regression\n",
    "##### Specifically, Linear Regression since it is the simplest model"
   ]
  },
  {
   "cell_type": "markdown",
   "id": "6365ac81-039a-4b47-89d3-d56d95afaf0b",
   "metadata": {},
   "source": [
    "Basic linear regression: \n",
    "g(xi) = w0 + sum(xij * wj) "
   ]
  },
  {
   "cell_type": "code",
   "execution_count": 16,
   "id": "0bf8d300-6648-4eb8-a01c-efece4a720a5",
   "metadata": {},
   "outputs": [],
   "source": [
    "# Linear regression implemented using numPy \n",
    "def train_linear_regression(X, y): \n",
    "    # Dummy column\n",
    "    ones = np.ones(X.shape[0])\n",
    "    # Add dummy column as the first col of X\n",
    "    X = np.column_stack([ones, X])\n",
    "\n",
    "    # Normal equation (The formula for weights calculation in linear regression)\n",
    "    XTX = X.T.dot(X)\n",
    "    XTX_inv = np.linalg.inv(XTX)\n",
    "    # Weights vector\n",
    "    w = XTX_inv.dot(X.T).dot(y)\n",
    "    # Split weights vector into bias (w0), rest of weights\n",
    "    return w[0], w[1:]"
   ]
  },
  {
   "cell_type": "code",
   "execution_count": 25,
   "id": "ee18dd9e-27f5-49bf-84af-7cc5e9a533e8",
   "metadata": {},
   "outputs": [
    {
     "data": {
      "text/plain": [
       "<matplotlib.legend.Legend at 0x7ff9de400220>"
      ]
     },
     "execution_count": 25,
     "metadata": {},
     "output_type": "execute_result"
    },
    {
     "data": {
      "image/png": "[encoded data removed]",
      "text/plain": [
       "<Figure size 640x480 with 1 Axes>"
      ]
     },
     "metadata": {},
     "output_type": "display_data"
    }
   ],
   "source": [
    "# Baseline (naive) solution\n",
    "# We start with only a few numerical features to form X.\n",
    "base = ['engine-hp', 'engine-cylinders', 'highway-mpg', 'city-mpg', 'popularity']\n",
    "df_num = df_train[base]\n",
    "# Before starting, we must fill all the missing rows with 0, so that we can make predictions on rows that contain \n",
    "# values, without affecting the model's accuracy\n",
    "df_num = df_num.fillna(0)\n",
    "\n",
    "# Convert DF to NP array\n",
    "X_train = df_num.values\n",
    "# TRAIN!!\n",
    "w_0, w = train_linear_regression(X_train, y_train)\n",
    "# Predictions: \n",
    "y_pred = w_0 + X_train.dot(w)\n",
    "\n",
    "# Comparing predictions with actual distribution:\n",
    "sns.histplot(y_pred, label='prediction')\n",
    "sns.histplot(y_train, label='target')\n",
    "plt.legend()"
   ]
  },
  {
   "cell_type": "markdown",
   "id": "b335091d-7634-4d08-bbc0-d7b6daa3ae55",
   "metadata": {},
   "source": [
    "#### Conclusion to baseline solution: \n",
    "Since the prediction looks different from actual values, the baseline model is not strong enough to capture the distribution of the target variable (msrp). "
   ]
  },
  {
   "cell_type": "code",
   "execution_count": null,
   "id": "e751d24a-6939-437a-ba6a-e5194e360b39",
   "metadata": {},
   "outputs": [],
   "source": []
  }
 ],
 "metadata": {
  "kernelspec": {
   "display_name": "Python 3 (ipykernel)",
   "language": "python",
   "name": "python3"
  },
  "language_info": {
   "codemirror_mode": {
    "name": "ipython",
    "version": 3
   },
   "file_extension": ".py",
   "mimetype": "text/x-python",
   "name": "python",
   "nbconvert_exporter": "python",
   "pygments_lexer": "ipython3",
   "version": "3.8.10"
  }
 },
 "nbformat": 4,
 "nbformat_minor": 5
}
